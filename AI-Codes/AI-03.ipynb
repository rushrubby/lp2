{
 "cells": [
  {
   "cell_type": "code",
   "execution_count": 2,
   "id": "46949b07-afb9-47d0-818a-1bfc65d9e7a8",
   "metadata": {},
   "outputs": [],
   "source": [
    "#3rd Pratical-AI Greedy search algortihm (Selection Sort)"
   ]
  },
  {
   "cell_type": "code",
   "execution_count": 10,
   "id": "31939ee8-3551-481d-bef4-fec9690f2554",
   "metadata": {},
   "outputs": [
    {
     "name": "stdout",
     "output_type": "stream",
     "text": [
      "The array after sorting in ascending order by selection sort is:\n",
      "[-999, -10, -2, 3, 5, 7, 56, 343, 666]\n"
     ]
    }
   ],
   "source": [
    "def selectionSort(array,size):\n",
    "    for ind in range(size):\n",
    "        min_index = ind\n",
    "\n",
    "        for j in range(ind + 1, size):\n",
    "            if array[j] < array[min_index]:\n",
    "                min_index = j\n",
    "    \n",
    "        (array[ind], array[min_index]) = (array[min_index], array[ind])\n",
    "\n",
    "\n",
    "arr = [-2,7, 3, -999, 56, 666,343, -10, 5]\n",
    "size = len(arr)\n",
    "selectionSort(arr,size)\n",
    "print('The array after sorting in ascending order by selection sort is:')\n",
    "print(arr)"
   ]
  },
  {
   "cell_type": "code",
   "execution_count": null,
   "id": "d4b9f418-1f4b-45d7-b4e9-67d0fec33dac",
   "metadata": {},
   "outputs": [],
   "source": []
  }
 ],
 "metadata": {
  "kernelspec": {
   "display_name": "Python 3 (ipykernel)",
   "language": "python",
   "name": "python3"
  },
  "language_info": {
   "codemirror_mode": {
    "name": "ipython",
    "version": 3
   },
   "file_extension": ".py",
   "mimetype": "text/x-python",
   "name": "python",
   "nbconvert_exporter": "python",
   "pygments_lexer": "ipython3",
   "version": "3.12.3"
  }
 },
 "nbformat": 4,
 "nbformat_minor": 5
}
