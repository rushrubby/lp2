{
 "cells": [
  {
   "cell_type": "code",
   "execution_count": 1,
   "id": "be221930-464e-4a0f-b8b9-d3203da133b8",
   "metadata": {},
   "outputs": [],
   "source": [
    "#AI Practical 04 n-queen"
   ]
  },
  {
   "cell_type": "code",
   "execution_count": 1,
   "id": "e539b5d2-45b8-425a-9545-512129abfba3",
   "metadata": {},
   "outputs": [
    {
     "name": "stdout",
     "output_type": "stream",
     "text": [
      "0010\n",
      "1000\n",
      "0001\n",
      "0100\n"
     ]
    },
    {
     "data": {
      "text/plain": [
       "True"
      ]
     },
     "execution_count": 1,
     "metadata": {},
     "output_type": "execute_result"
    }
   ],
   "source": [
    "global N\n",
    "N= 4\n",
    "\n",
    "def printSolution(board):\n",
    "    for i in range(N):\n",
    "        for j in range(N):\n",
    "            print(board[i][j], end='')\n",
    "        print()\n",
    "\n",
    "def isSafe(board,row,col):\n",
    "    for i in range(col):\n",
    "        if board[row][i] == 1:\n",
    "            return False\n",
    "\n",
    "    for i,j in zip(range(row, -1, -1), range(col,-1,-1)):\n",
    "        if board[i][j] == 1:\n",
    "            return False\n",
    "\n",
    "    for i, j in zip(range(row,N,1), range(col,-1,-1)):\n",
    "        if board[i][j] == 1:\n",
    "            return False\n",
    "\n",
    "    return True\n",
    "\n",
    "def solveNQUtil(board,col):\n",
    "    if col>= N:\n",
    "        return True\n",
    "\n",
    "    for i in range(N):\n",
    "        if isSafe(board,i,col):\n",
    "            board[i][col] = 1\n",
    "\n",
    "            if solveNQUtil(board,col+1) == True:\n",
    "                return True\n",
    "\n",
    "            board[i][col] = 0\n",
    "\n",
    "    return False\n",
    "\n",
    "def solveNQ():\n",
    "    board = [[0, 0, 0, 0],\n",
    "            [0, 0, 0, 0],\n",
    "            [0, 0, 0, 0],\n",
    "            [0, 0 ,0 ,0],\n",
    "            ]\n",
    "\n",
    "    if solveNQUtil(board,0) == False:\n",
    "        print(\"Solution does not exist\")\n",
    "        return False\n",
    "    printSolution(board)\n",
    "    return True\n",
    "\n",
    "solveNQ()"
   ]
  },
  {
   "cell_type": "code",
   "execution_count": null,
   "id": "647ee240-e26d-4f9d-b170-4a1bd03d3075",
   "metadata": {},
   "outputs": [],
   "source": []
  }
 ],
 "metadata": {
  "kernelspec": {
   "display_name": "Python 3 (ipykernel)",
   "language": "python",
   "name": "python3"
  },
  "language_info": {
   "codemirror_mode": {
    "name": "ipython",
    "version": 3
   },
   "file_extension": ".py",
   "mimetype": "text/x-python",
   "name": "python",
   "nbconvert_exporter": "python",
   "pygments_lexer": "ipython3",
   "version": "3.12.2"
  },
  "widgets": {
   "application/vnd.jupyter.widget-state+json": {
    "state": {},
    "version_major": 2,
    "version_minor": 0
   }
  }
 },
 "nbformat": 4,
 "nbformat_minor": 5
}
