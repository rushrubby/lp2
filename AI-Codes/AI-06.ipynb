{
 "cells": [
  {
   "cell_type": "code",
   "execution_count": 1,
   "id": "44cda15e-c757-4d65-b1c2-54c5e5833fbd",
   "metadata": {},
   "outputs": [],
   "source": [
    "#Ai 06 Help Desk managment system"
   ]
  },
  {
   "cell_type": "code",
   "execution_count": 2,
   "id": "a1384606-8bd5-48f3-a3ae-c9cd4e3e7fa6",
   "metadata": {},
   "outputs": [
    {
     "name": "stdin",
     "output_type": "stream",
     "text": [
      "What's the problem you are facing? Type 'exit' to quit Email not sending\n"
     ]
    },
    {
     "name": "stdout",
     "output_type": "stream",
     "text": [
      "Check that you're using the correct email server settings\n"
     ]
    },
    {
     "name": "stdin",
     "output_type": "stream",
     "text": [
      "What's the problem you are facing? Type 'exit' to quit exit\n"
     ]
    },
    {
     "name": "stdout",
     "output_type": "stream",
     "text": [
      "Goodbye!!\n"
     ]
    }
   ],
   "source": [
    "problem_dict = {\n",
    "     \"Printer not working\": \"Check that it's turned on and connected to the network\",\n",
    "     \"Can't log in\": \"Make sure you're using the correct username and password\",\n",
    "     \"Software not installing\": \"Check that your computer meets the system requirements\",\n",
    "     \"Internet connection not working\": \"Restart your modem or router\",\n",
    "     \"Email not sending\": \"Check that you're using the correct email server settings\",\n",
    "     \"Pc slow\":\"Try to uninstall malacious apps\",\n",
    "     \"Lift not working\": \"Call the maintance staff\"\n",
    "}\n",
    "\n",
    "def handle_request(user_input):\n",
    "    if user_input.lower() == \"exit\":\n",
    "        return \"Goodbye!!\"\n",
    "    # break\n",
    "    elif user_input in problem_dict:\n",
    "        return problem_dict[user_input]\n",
    "    else:\n",
    "        return \"I'm sorry I don't know the answer with that problem\"\n",
    "        \n",
    "while True:\n",
    "    user_input = input(\"What's the problem you are facing? Type 'exit' to quit\")\n",
    "    response= handle_request(user_input)\n",
    "    print(response)\n",
    "    if user_input.lower() == 'exit':\n",
    "        break"
   ]
  },
  {
   "cell_type": "code",
   "execution_count": null,
   "id": "610c8f80-1a6d-4fa0-8c1b-2ced6d732cd2",
   "metadata": {},
   "outputs": [],
   "source": []
  }
 ],
 "metadata": {
  "kernelspec": {
   "display_name": "Python 3 (ipykernel)",
   "language": "python",
   "name": "python3"
  },
  "language_info": {
   "codemirror_mode": {
    "name": "ipython",
    "version": 3
   },
   "file_extension": ".py",
   "mimetype": "text/x-python",
   "name": "python",
   "nbconvert_exporter": "python",
   "pygments_lexer": "ipython3",
   "version": "3.12.3"
  }
 },
 "nbformat": 4,
 "nbformat_minor": 5
}
