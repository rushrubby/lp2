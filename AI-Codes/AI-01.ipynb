{
 "cells": [
  {
   "cell_type": "code",
   "execution_count": 1,
   "id": "42530065-2d36-44f2-a2b0-69e03364f982",
   "metadata": {},
   "outputs": [],
   "source": [
    "#AI 01 first practical"
   ]
  },
  {
   "cell_type": "code",
   "execution_count": 6,
   "id": "b08037dc-9509-453d-9a0d-7e513b1950d2",
   "metadata": {},
   "outputs": [
    {
     "name": "stdout",
     "output_type": "stream",
     "text": [
      "A B C D E F "
     ]
    }
   ],
   "source": [
    "\n",
    "#BFS\n",
    "\n",
    "graph = {\n",
    " 'A' : ['B','C'],\n",
    " 'B' : ['D', 'E'],\n",
    " 'C' : ['F'],\n",
    " 'D' : [],\n",
    " 'E' : ['F'],\n",
    " 'F' : []\n",
    "}\n",
    "visited = [] # List to keep track of visited nodes.\n",
    "queue = [] #Initialize a queue\n",
    "\n",
    "def bfs(visited, graph, node):\n",
    "     visited.append(node)\n",
    "     queue.append(node)\n",
    "     while queue:\n",
    "         s = queue.pop(0)\n",
    "         print (s, end = \" \")\n",
    "         for neighbour in graph[s]:\n",
    "             if neighbour not in visited:\n",
    "                 visited.append(neighbour)\n",
    "                 queue.append(neighbour)\n",
    "                 \n",
    "bfs(visited, graph, 'A')"
   ]
  },
  {
   "cell_type": "code",
   "execution_count": 7,
   "id": "5b5e8703-3043-4b94-98b4-61f05097953b",
   "metadata": {},
   "outputs": [
    {
     "name": "stdout",
     "output_type": "stream",
     "text": [
      "Following is the path using depth first search\n",
      "A\n",
      "B\n",
      "D\n",
      "E\n",
      "F\n",
      "C\n"
     ]
    }
   ],
   "source": [
    "#DFS\n",
    "\n",
    "graph = {\n",
    "    'A':['B','C'],\n",
    "    'B':['D','E'],\n",
    "    'C':['F'],\n",
    "    'D':[],\n",
    "    'E':['F'],\n",
    "    'F':[]\n",
    "}\n",
    "\n",
    "visited = set()\n",
    "\n",
    "def dfs(visited,graph,node):\n",
    "    if node not in visited:\n",
    "        print(node)\n",
    "        visited.add(node)\n",
    "        for neighbour in graph[node]:\n",
    "            dfs(visited,graph,neighbour)\n",
    "\n",
    "print(\"Following is the path using depth first search\")\n",
    "dfs(visited, graph, 'A')"
   ]
  },
  {
   "cell_type": "code",
   "execution_count": null,
   "id": "78129d6e-6927-414a-962e-2cdcc72f4c83",
   "metadata": {},
   "outputs": [],
   "source": []
  }
 ],
 "metadata": {
  "kernelspec": {
   "display_name": "Python 3 (ipykernel)",
   "language": "python",
   "name": "python3"
  },
  "language_info": {
   "codemirror_mode": {
    "name": "ipython",
    "version": 3
   },
   "file_extension": ".py",
   "mimetype": "text/x-python",
   "name": "python",
   "nbconvert_exporter": "python",
   "pygments_lexer": "ipython3",
   "version": "3.12.3"
  }
 },
 "nbformat": 4,
 "nbformat_minor": 5
}
